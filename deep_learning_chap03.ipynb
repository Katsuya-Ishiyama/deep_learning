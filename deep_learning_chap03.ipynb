{
 "cells": [
  {
   "cell_type": "markdown",
   "metadata": {},
   "source": [
    "# ゼロから作るDeep Learning\n",
    "### 3.2 ステップ関数の実装"
   ]
  },
  {
   "cell_type": "code",
   "execution_count": 1,
   "metadata": {
    "collapsed": true
   },
   "outputs": [],
   "source": [
    "# 3章で使うライブラリをインポートしておく\n",
    "%matplotlib inline\n",
    "from matplotlib import pyplot as plt\n",
    "import numpy as np"
   ]
  },
  {
   "cell_type": "markdown",
   "metadata": {},
   "source": [
    "#### 3.2.2 ステップ関数の実装\n",
    "ステップ関数を3通りの方法で実装している。  \n",
    "\n",
    "1つ目はデフォルトで用意されているpythonの機能のみを利用して作成しており、for文などのループ処理を利用しなければ複数の入力を計算することはできない。  \n",
    "2つ目はサードパーティ製ライブラリのnumpyを利用して、複数の数値をpythonのループ処理を使わずに一括処理できるようにしている。  \n",
    "3つ目は2つ目が持っているバグを修正したものになっている。  "
   ]
  },
  {
   "cell_type": "markdown",
   "metadata": {},
   "source": [
    "##### 1つ目の定義\n",
    "-----------------------------------------------------------------------------------------\n",
    "デフォルトで用意されているpythonの機能のみを利用して作成"
   ]
  },
  {
   "cell_type": "code",
   "execution_count": 2,
   "metadata": {
    "collapsed": false
   },
   "outputs": [
    {
     "name": "stdout",
     "output_type": "stream",
     "text": [
      "step_function1(0.1) = 1\n",
      "step_function1(-1.6) = 0\n"
     ]
    }
   ],
   "source": [
    "def step_function1(x):\n",
    "    if x > 0:\n",
    "        return 1\n",
    "    else:\n",
    "        return 0\n",
    "\n",
    "# Test\n",
    "print('step_function1(0.1) =', step_function1(0.1))\n",
    "print('step_function1(-1.6) =', step_function1(-1.6))"
   ]
  },
  {
   "cell_type": "code",
   "execution_count": 3,
   "metadata": {
    "collapsed": false
   },
   "outputs": [
    {
     "ename": "ValueError",
     "evalue": "The truth value of an array with more than one element is ambiguous. Use a.any() or a.all()",
     "output_type": "error",
     "traceback": [
      "\u001b[0;31m---------------------------------------------------------------------------\u001b[0m",
      "\u001b[0;31mValueError\u001b[0m                                Traceback (most recent call last)",
      "\u001b[0;32m<ipython-input-3-b9ccbea10a99>\u001b[0m in \u001b[0;36m<module>\u001b[0;34m()\u001b[0m\n\u001b[1;32m      1\u001b[0m \u001b[0;31m# これはエラーになる\u001b[0m\u001b[0;34m\u001b[0m\u001b[0;34m\u001b[0m\u001b[0m\n\u001b[1;32m      2\u001b[0m \u001b[0;31m# もちろん純粋なリストも不可\u001b[0m\u001b[0;34m\u001b[0m\u001b[0;34m\u001b[0m\u001b[0m\n\u001b[0;32m----> 3\u001b[0;31m \u001b[0mstep_function1\u001b[0m\u001b[0;34m(\u001b[0m\u001b[0mnp\u001b[0m\u001b[0;34m.\u001b[0m\u001b[0marray\u001b[0m\u001b[0;34m(\u001b[0m\u001b[0;34m[\u001b[0m\u001b[0;36m0.1\u001b[0m\u001b[0;34m,\u001b[0m \u001b[0;34m-\u001b[0m\u001b[0;36m1.6\u001b[0m\u001b[0;34m]\u001b[0m\u001b[0;34m)\u001b[0m\u001b[0;34m)\u001b[0m\u001b[0;34m\u001b[0m\u001b[0m\n\u001b[0m",
      "\u001b[0;32m<ipython-input-2-3282a806fdbc>\u001b[0m in \u001b[0;36mstep_function1\u001b[0;34m(x)\u001b[0m\n\u001b[1;32m      1\u001b[0m \u001b[0;32mdef\u001b[0m \u001b[0mstep_function1\u001b[0m\u001b[0;34m(\u001b[0m\u001b[0mx\u001b[0m\u001b[0;34m)\u001b[0m\u001b[0;34m:\u001b[0m\u001b[0;34m\u001b[0m\u001b[0m\n\u001b[0;32m----> 2\u001b[0;31m     \u001b[0;32mif\u001b[0m \u001b[0mx\u001b[0m \u001b[0;34m>\u001b[0m \u001b[0;36m0\u001b[0m\u001b[0;34m:\u001b[0m\u001b[0;34m\u001b[0m\u001b[0m\n\u001b[0m\u001b[1;32m      3\u001b[0m         \u001b[0;32mreturn\u001b[0m \u001b[0;36m1\u001b[0m\u001b[0;34m\u001b[0m\u001b[0m\n\u001b[1;32m      4\u001b[0m     \u001b[0;32melse\u001b[0m\u001b[0;34m:\u001b[0m\u001b[0;34m\u001b[0m\u001b[0m\n\u001b[1;32m      5\u001b[0m         \u001b[0;32mreturn\u001b[0m \u001b[0;36m0\u001b[0m\u001b[0;34m\u001b[0m\u001b[0m\n",
      "\u001b[0;31mValueError\u001b[0m: The truth value of an array with more than one element is ambiguous. Use a.any() or a.all()"
     ]
    }
   ],
   "source": [
    "# これはエラーになる\n",
    "# もちろん純粋なリストも不可\n",
    "step_function1(np.array([0.1, -1.6]))"
   ]
  },
  {
   "cell_type": "markdown",
   "metadata": {},
   "source": [
    "##### 2つ目の定義\n",
    "-----------------------------------------------------------------------------------------------\n",
    "numpyの配列の機能を利用して定義している。  \n",
    "y.astype(np.int64)を使うとbool値配列であるyが0または1に変換されるところがミソ。  \n",
    "しかし、xにスカラー値を入力するとastypeメソッドが使えないため、エラーが起こる。"
   ]
  },
  {
   "cell_type": "code",
   "execution_count": 4,
   "metadata": {
    "collapsed": false
   },
   "outputs": [
    {
     "name": "stdout",
     "output_type": "stream",
     "text": [
      "step_function2(np.array([0.1, -1.6])) = [1 0]\n",
      "step_function2(np.array(0.1)) = 1\n"
     ]
    },
    {
     "ename": "AttributeError",
     "evalue": "'bool' object has no attribute 'astype'",
     "output_type": "error",
     "traceback": [
      "\u001b[0;31m---------------------------------------------------------------------------\u001b[0m",
      "\u001b[0;31mAttributeError\u001b[0m                            Traceback (most recent call last)",
      "\u001b[0;32m<ipython-input-4-905c5b0fda83>\u001b[0m in \u001b[0;36m<module>\u001b[0;34m()\u001b[0m\n\u001b[1;32m     10\u001b[0m \u001b[0;34m\u001b[0m\u001b[0m\n\u001b[1;32m     11\u001b[0m \u001b[0;31m# これはエラーが発生する\u001b[0m\u001b[0;34m\u001b[0m\u001b[0;34m\u001b[0m\u001b[0m\n\u001b[0;32m---> 12\u001b[0;31m \u001b[0mprint\u001b[0m\u001b[0;34m(\u001b[0m\u001b[0;34m'step_function2(-1.6) ='\u001b[0m\u001b[0;34m,\u001b[0m \u001b[0mstep_function2\u001b[0m\u001b[0;34m(\u001b[0m\u001b[0;34m-\u001b[0m\u001b[0;36m1.6\u001b[0m\u001b[0;34m)\u001b[0m\u001b[0;34m)\u001b[0m\u001b[0;34m\u001b[0m\u001b[0m\n\u001b[0m",
      "\u001b[0;32m<ipython-input-4-905c5b0fda83>\u001b[0m in \u001b[0;36mstep_function2\u001b[0;34m(x)\u001b[0m\n\u001b[1;32m      2\u001b[0m     \u001b[0my\u001b[0m \u001b[0;34m=\u001b[0m \u001b[0mx\u001b[0m \u001b[0;34m>\u001b[0m \u001b[0;36m0\u001b[0m\u001b[0;34m\u001b[0m\u001b[0m\n\u001b[1;32m      3\u001b[0m \u001b[0;34m\u001b[0m\u001b[0m\n\u001b[0;32m----> 4\u001b[0;31m     \u001b[0;32mreturn\u001b[0m \u001b[0my\u001b[0m\u001b[0;34m.\u001b[0m\u001b[0mastype\u001b[0m\u001b[0;34m(\u001b[0m\u001b[0mnp\u001b[0m\u001b[0;34m.\u001b[0m\u001b[0mint64\u001b[0m\u001b[0;34m)\u001b[0m\u001b[0;34m\u001b[0m\u001b[0m\n\u001b[0m\u001b[1;32m      5\u001b[0m \u001b[0;34m\u001b[0m\u001b[0m\n\u001b[1;32m      6\u001b[0m \u001b[0;31m# Test\u001b[0m\u001b[0;34m\u001b[0m\u001b[0;34m\u001b[0m\u001b[0m\n",
      "\u001b[0;31mAttributeError\u001b[0m: 'bool' object has no attribute 'astype'"
     ]
    }
   ],
   "source": [
    "def step_function2(x):\n",
    "    y = x > 0\n",
    "\n",
    "    return y.astype(np.int64)\n",
    "\n",
    "# Test\n",
    "# 次の2つは成功\n",
    "print('step_function2(np.array([0.1, -1.6])) =', step_function2(np.array([0.1, -1.6])))\n",
    "print('step_function2(np.array(0.1)) =', step_function2(np.array(0.1)))\n",
    "\n",
    "# これはエラーが発生する\n",
    "print('step_function2(-1.6) =', step_function2(-1.6))"
   ]
  },
  {
   "cell_type": "markdown",
   "metadata": {},
   "source": [
    "##### 3つ目の定義\n",
    "-------------------------------------------------------------------------\n",
    "x > 0の部分で評価されたbool値（スカラーまたは配列とも）をnumpyの配列に変換している。  \n",
    "その過程でbool値を整数に変換しているため、xにスカラー値を入力してもエラーは起こらない。"
   ]
  },
  {
   "cell_type": "code",
   "execution_count": 5,
   "metadata": {
    "collapsed": false
   },
   "outputs": [
    {
     "name": "stdout",
     "output_type": "stream",
     "text": [
      "step_function(np.array([0.1, -1.6])) = [1 0]\n",
      "step_function(np.array(0.1)) = 1\n",
      "step_function(-1.6) = 0\n"
     ]
    }
   ],
   "source": [
    "def step_function(x):\n",
    "\n",
    "    return np.array(x > 0, dtype=np.int64)\n",
    "\n",
    "# Test\n",
    "# 次の2つはもちろん成功\n",
    "print('step_function(np.array([0.1, -1.6])) =', step_function(np.array([0.1, -1.6])))\n",
    "print('step_function(np.array(0.1)) =', step_function(np.array(0.1)))\n",
    "\n",
    "# これも成功する\n",
    "print('step_function(-1.6) =', step_function(-1.6))"
   ]
  },
  {
   "cell_type": "markdown",
   "metadata": {},
   "source": [
    "#### 3.2.3 ステップ関数のグラフ\n",
    "3つ目の定義(step_function)でグラフを描画してみる。"
   ]
  },
  {
   "cell_type": "code",
   "execution_count": 6,
   "metadata": {
    "collapsed": false
   },
   "outputs": [
    {
     "data": {
      "text/plain": [
       "<matplotlib.text.Text at 0x7fcaf55cafd0>"
      ]
     },
     "execution_count": 6,
     "metadata": {},
     "output_type": "execute_result"
    },
    {
     "data": {
      "image/png": "[encoded data removed]",
      "text/plain": [
       "<matplotlib.figure.Figure at 0x7fcaf778a630>"
      ]
     },
     "metadata": {},
     "output_type": "display_data"
    }
   ],
   "source": [
    "x = np.arange(start=-5, stop=5, step=0.1)\n",
    "y = step_function(x)\n",
    "\n",
    "plt.plot(x, y)\n",
    "plt.ylim(-0.1, 1.1)\n",
    "plt.title('Step Function')"
   ]
  },
  {
   "cell_type": "markdown",
   "metadata": {},
   "source": [
    "#### 3.2.4 シグモイド関数の実装\n",
    "\\begin{equation}\n",
    "h(x) = \\frac{1}{1 + \\text{exp}(-x)}\n",
    "\\end{equation}\n",
    "をシグモイド関数(sigmoid function)と呼ぶ。"
   ]
  },
  {
   "cell_type": "code",
   "execution_count": 7,
   "metadata": {
    "collapsed": false
   },
   "outputs": [],
   "source": [
    "# シグモイド関数の実装\n",
    "def sigmoid(x):\n",
    "\n",
    "    return 1 / (1 + np.exp(-x))"
   ]
  },
  {
   "cell_type": "code",
   "execution_count": 9,
   "metadata": {
    "collapsed": false
   },
   "outputs": [
    {
     "data": {
      "text/plain": [
       "<matplotlib.text.Text at 0x7fcaf7a3ba58>"
      ]
     },
     "execution_count": 9,
     "metadata": {},
     "output_type": "execute_result"
    },
    {
     "data": {
      "image/png": "[encoded data removed]",
      "text/plain": [
       "<matplotlib.figure.Figure at 0x7fcaf543d550>"
      ]
     },
     "metadata": {},
     "output_type": "display_data"
    }
   ],
   "source": [
    "# シグモイド関数を描画する\n",
    "x = np.arange(start=-5, stop=5, step=0.1)\n",
    "y = sigmoid(x)\n",
    "\n",
    "plt.plot(x, y)\n",
    "plt.title('Sigmoid Function')"
   ]
  },
  {
   "cell_type": "markdown",
   "metadata": {},
   "source": [
    "#### 3.2.7 ReLU関数\n",
    "ニューラルネットワークにおいて、シグモイド関数が活性化関数として使われてきたが、最近はReLU関数(Rectified Linear Unit)にが主に利用されている。  \n",
    "ReLU関数の定義は次の通り。\n",
    "\\begin{equation}\n",
    "h(x) = \\begin{cases}\n",
    "        x & (x > 0)   \\\\\n",
    "        0 & (x \\le 0)\n",
    "    \\end{cases}\n",
    "\\end{equation}\n",
    "これはmaxを使って次の定義に書き換えられる。\n",
    "\\begin{equation}\n",
    "h(x) = \\max(0, x)\n",
    "\\end{equation}\n",
    "\n",
    "numpyにはmax関数とmaximum関数があるが、配列同士の大小比較ができるのはmaximumであることに注意する。"
   ]
  },
  {
   "cell_type": "code",
   "execution_count": 10,
   "metadata": {
    "collapsed": false
   },
   "outputs": [
    {
     "name": "stdout",
     "output_type": "stream",
     "text": [
      "relu(np.array([-1, -0.1, 0.1])) = [ 0.   0.   0.1]\n",
      "relu(-0.1) = 0.0\n",
      "relu(0.1) = 0.1\n"
     ]
    }
   ],
   "source": [
    "# ReLU関数の定義\n",
    "def relu(x):\n",
    "    return np.maximum(0, x)\n",
    "\n",
    "# Test\n",
    "print('relu(np.array([-1, -0.1, 0.1])) =', relu(np.array([-1, -0.1, 0.1])))\n",
    "print('relu(-0.1) =', relu(-0.1))\n",
    "print('relu(0.1) =', relu(0.1))"
   ]
  },
  {
   "cell_type": "markdown",
   "metadata": {
    "collapsed": true
   },
   "source": [
    "## 3.4 3層ニューラルネットワークの実装\n",
    "#### 3.4.2 各層における信号伝達の実装\n",
    "第1層と第2層の活性化関数にシグモイド関数を、第3層（出力層）の活性化関数に恒等関数を使う。  "
   ]
  },
  {
   "cell_type": "code",
   "execution_count": 11,
   "metadata": {
    "collapsed": true
   },
   "outputs": [],
   "source": [
    "# 恒等関数の定義\n",
    "def identity_function(x):\n",
    "\n",
    "    return x"
   ]
  },
  {
   "cell_type": "markdown",
   "metadata": {},
   "source": [
    "#### 3.4.3 実装のまとめ"
   ]
  },
  {
   "cell_type": "code",
   "execution_count": 12,
   "metadata": {
    "collapsed": false
   },
   "outputs": [],
   "source": [
    "def init_network():\n",
    "\n",
    "    network = {}\n",
    "\n",
    "    network['W1'] = np.array([[0.1, 0.3, 0.5], [0.2, 0.4, 0.6]])\n",
    "    network['b1'] = np.array([0.1, 0.2, 0.3])\n",
    "\n",
    "    network['W2'] = np.array([[0.1, 0.4], [0.2, 0.5], [0.3, 0.6]])\n",
    "    network['b2'] = np.array([0.1, 0.2])\n",
    "\n",
    "    network['W3'] = np.array([[0.1, 0.3], [0.2, 0.4]])\n",
    "    network['b3'] = np.array([0.1, 0.2])\n",
    "    \n",
    "    return network\n",
    "\n",
    "\n",
    "def forward(network, x):\n",
    "\n",
    "    W1 = network['W1']\n",
    "    W2 = network['W2']\n",
    "    W3 = network['W3']\n",
    "\n",
    "    b1 = network['b1']\n",
    "    b2 = network['b2']\n",
    "    b3 = network['b3']\n",
    "\n",
    "    a1 = np.dot(x, W1) + b1\n",
    "    z1 = sigmoid(a1)\n",
    "    \n",
    "    a2 = np.dot(z1, W2) + b2\n",
    "    z2 = sigmoid(a2)\n",
    "    \n",
    "    a3 = np.dot(z2, W3) + b3\n",
    "    y = identity_function(a3)\n",
    "\n",
    "    return y\n"
   ]
  },
  {
   "cell_type": "code",
   "execution_count": 13,
   "metadata": {
    "collapsed": false
   },
   "outputs": [
    {
     "name": "stdout",
     "output_type": "stream",
     "text": [
      "[ 0.31682708  0.69627909]\n"
     ]
    }
   ],
   "source": [
    "y = forward(\n",
    "    network=init_network(),\n",
    "    x=np.array([1.0, 0.5])\n",
    ") \n",
    "print(y)"
   ]
  },
  {
   "cell_type": "markdown",
   "metadata": {},
   "source": [
    "## 3.5 出力層の設計\n",
    "#### 3.5.1 恒等関数とソフトマックス関数\n",
    "ソフトマックス関数は次式で表される。\n",
    "\\begin{equation}\n",
    "y_{k} = \\frac{\\exp(a_{k})}{\\sum^{n}_{i=1}\\exp(a_{i})}\n",
    "\\end{equation}"
   ]
  },
  {
   "cell_type": "code",
   "execution_count": 14,
   "metadata": {
    "collapsed": true
   },
   "outputs": [],
   "source": [
    "# ソフトマックス関数を定義する\n",
    "def softmax(a):\n",
    "    exp_a = np.exp(a)\n",
    "    y = exp_a / np.sum(exp_a)\n",
    "    \n",
    "    return y\n"
   ]
  },
  {
   "cell_type": "markdown",
   "metadata": {},
   "source": [
    "#### 3.5.2 ソフトマックス関数の実装上の注意\n",
    "$\\exp(x)$の計算は$x$が大きくなるとnanを返すようになるため、上の定義では最終的な計算結果が不安定になる。  \n",
    "ソフトマックス関数の実装を改善させる。"
   ]
  },
  {
   "cell_type": "code",
   "execution_count": 15,
   "metadata": {
    "collapsed": false
   },
   "outputs": [
    {
     "name": "stderr",
     "output_type": "stream",
     "text": [
      "/home/ishiyama/.pyenv/versions/anaconda3-4.0.0/lib/python3.5/site-packages/ipykernel/__main__.py:3: RuntimeWarning: overflow encountered in exp\n",
      "  app.launch_new_instance()\n",
      "/home/ishiyama/.pyenv/versions/anaconda3-4.0.0/lib/python3.5/site-packages/ipykernel/__main__.py:4: RuntimeWarning: invalid value encountered in true_divide\n"
     ]
    },
    {
     "data": {
      "text/plain": [
       "array([ nan,  nan,  nan])"
      ]
     },
     "execution_count": 15,
     "metadata": {},
     "output_type": "execute_result"
    }
   ],
   "source": [
    "# 上の定義では3つともnanが帰ってくる\n",
    "softmax(np.array([1010, 1000, 990]))"
   ]
  },
  {
   "cell_type": "code",
   "execution_count": 16,
   "metadata": {
    "collapsed": true
   },
   "outputs": [],
   "source": [
    "# ソフトマックス関数の修正版\n",
    "def softmax(a):\n",
    "\n",
    "    c = np.max(a)\n",
    "    exp_a = np.exp(a - c)\n",
    "    y = exp_a / sum(exp_a)\n",
    "    \n",
    "    return y"
   ]
  },
  {
   "cell_type": "code",
   "execution_count": 17,
   "metadata": {
    "collapsed": false
   },
   "outputs": [
    {
     "data": {
      "text/plain": [
       "array([  9.99954600e-01,   4.53978686e-05,   2.06106005e-09])"
      ]
     },
     "execution_count": 17,
     "metadata": {},
     "output_type": "execute_result"
    }
   ],
   "source": [
    "# 修正版では3つとも数値が返ってくる\n",
    "softmax(np.array([1010, 1000, 990]))"
   ]
  },
  {
   "cell_type": "markdown",
   "metadata": {
    "collapsed": true
   },
   "source": [
    "## 3.6 手書き数字認識\n",
    "#### 3.6.1 MNISTデータセット\n",
    "MNISTは手書き数字の画像セット。  \n",
    "機械学習分野では最も有名なデータセットの1つであり、簡単な実験から論文として発表される研究まで、様々なシーンで活用される。\n",
    "MNISTデータセットのダウンロードはmnist.pyを使って行うことにする。\n",
    "mnist.pyは下記から入手可能。  \n",
    "https://github.com/oreilly-japan/deep-learning-from-scratch"
   ]
  },
  {
   "cell_type": "code",
   "execution_count": 19,
   "metadata": {
    "collapsed": false
   },
   "outputs": [
    {
     "name": "stdout",
     "output_type": "stream",
     "text": [
      "(60000, 784)\n",
      "(60000,)\n",
      "(10000, 784)\n",
      "(10000,)\n"
     ]
    }
   ],
   "source": [
    "import sys\n",
    "import os\n",
    "from dataset.mnist import load_mnist\n",
    "\n",
    "# 最初の呼び出しは数分待つとのことだったが、数秒で終わった\n",
    "# この辺はネット環境の違いによるようだ、、、\n",
    "(x_train, t_train), (x_test, t_test) = load_mnist(flatten=True, normalize=True)\n",
    "\n",
    "print(x_train.shape)\n",
    "print(t_train.shape)\n",
    "print(x_test.shape)\n",
    "print(t_test.shape)"
   ]
  },
  {
   "cell_type": "markdown",
   "metadata": {
    "collapsed": true
   },
   "source": [
    "MNIST画像を表示させてみる。"
   ]
  },
  {
   "cell_type": "code",
   "execution_count": 22,
   "metadata": {
    "collapsed": false
   },
   "outputs": [
    {
     "name": "stdout",
     "output_type": "stream",
     "text": [
      "5\n",
      "(784,)\n",
      "(28, 28)\n"
     ]
    }
   ],
   "source": [
    "import sys\n",
    "import os\n",
    "import numpy as np\n",
    "from dataset.mnist import load_mnist\n",
    "from PIL import Image\n",
    "\n",
    "def img_show(img):\n",
    "    pil_img = Image.fromarray(np.uint8(img))\n",
    "    pil_img.show()\n",
    "\n",
    "# データをロード\n",
    "(x_train, t_train), (x_test, t_test) = load_mnist(flatten=True, normalize=True)\n",
    "\n",
    "img = x_train[0]\n",
    "label = t_train[0]\n",
    "print(label)\n",
    "\n",
    "print(img.shape)\n",
    "img = img.reshape(28, 28)\n",
    "print(img.shape)\n",
    "\n",
    "# XXX: ちゃんと表示されない\n",
    "img_show(img)"
   ]
  },
  {
   "cell_type": "markdown",
   "metadata": {},
   "source": [
    "#### 3.6.2 ニューラルネットワークの推論処理"
   ]
  },
  {
   "cell_type": "code",
   "execution_count": 29,
   "metadata": {
    "collapsed": false
   },
   "outputs": [
    {
     "name": "stdout",
     "output_type": "stream",
     "text": [
      "Accuracy: 0.9352\n"
     ]
    }
   ],
   "source": [
    "import pickle\n",
    "\n",
    "def get_data():\n",
    "    (x_train, t_train), (x_test, t_test) = load_mnist(normalize=True, flatten=True, one_hot_label=False)\n",
    "    \n",
    "    return x_test, t_test\n",
    "\n",
    "def init_network():\n",
    "    with open('deep_learning/deep-learning-from-scratch/ch03/sample_weight.pkl', 'rb') as f:\n",
    "        network = pickle.load(f)\n",
    "        \n",
    "    return network\n",
    "\n",
    "def predict(network, x):\n",
    "    \n",
    "    W1 = network['W1']\n",
    "    W2 = network['W2']\n",
    "    W3 = network['W3']\n",
    "\n",
    "    b1 = network['b1']\n",
    "    b2 = network['b2']\n",
    "    b3 = network['b3']\n",
    "\n",
    "    a1 = np.dot(x, W1) + b1\n",
    "    z1 = sigmoid(a1)\n",
    "    \n",
    "    a2 = np.dot(z1, W2) + b2\n",
    "    z2 = sigmoid(a2)\n",
    "    \n",
    "    a3 = np.dot(z2, W3) + b3\n",
    "    y = softmax(a3)\n",
    "    \n",
    "    return y\n",
    "\n",
    "x_list, t_list = get_data()\n",
    "network = init_network()\n",
    "\n",
    "accuracy_cnt = 0\n",
    "for i, (x, t) in enumerate(zip(x_list, t_list)):\n",
    "    y = predict(network, x)\n",
    "    p = np.argmax(y)\n",
    "    if p == t:\n",
    "        accuracy_cnt += 1\n",
    "\n",
    "print('Accuracy:', accuracy_cnt / float(len(x_list)))"
   ]
  },
  {
   "cell_type": "code",
   "execution_count": null,
   "metadata": {
    "collapsed": true
   },
   "outputs": [],
   "source": []
  }
 ],
 "metadata": {
  "anaconda-cloud": {},
  "kernelspec": {
   "display_name": "Python [conda root]",
   "language": "python",
   "name": "conda-root-py"
  },
  "language_info": {
   "codemirror_mode": {
    "name": "ipython",
    "version": 3
   },
   "file_extension": ".py",
   "mimetype": "text/x-python",
   "name": "python",
   "nbconvert_exporter": "python",
   "pygments_lexer": "ipython3",
   "version": "3.5.2"
  }
 },
 "nbformat": 4,
 "nbformat_minor": 1
}
