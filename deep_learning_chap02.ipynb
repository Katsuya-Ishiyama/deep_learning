{
 "cells": [
  {
   "cell_type": "markdown",
   "metadata": {},
   "source": [
    "# ゼロから作るDeep Learning\n",
    "### 2.3 パーセプトロンの実装"
   ]
  },
  {
   "cell_type": "markdown",
   "metadata": {},
   "source": [
    "#### 2.3.1 簡単な実装\n",
    "ここではAND回路を実装する。"
   ]
  },
  {
   "cell_type": "code",
   "execution_count": 1,
   "metadata": {
    "collapsed": false
   },
   "outputs": [
    {
     "name": "stdout",
     "output_type": "stream",
     "text": [
      "AND(0, 0) = 0\n",
      "AND(1, 0) = 0\n",
      "AND(0, 1) = 0\n",
      "AND(1, 1) = 1\n"
     ]
    }
   ],
   "source": [
    "# AND回路の定義\n",
    "\n",
    "def AND(x1, x2):\n",
    "    w1 = 0.5\n",
    "    w2 = 0.5\n",
    "    theta = 0.7\n",
    "    \n",
    "    if w1 * x1 + w2 * x2 > theta:\n",
    "        return 1\n",
    "    else:\n",
    "        return 0\n",
    "\n",
    "# AND回路のテスト\n",
    "print('AND(0, 0) =', AND(0, 0))\n",
    "print('AND(1, 0) =', AND(1, 0))\n",
    "print('AND(0, 1) =', AND(0, 1))\n",
    "print('AND(1, 1) =', AND(1, 1))"
   ]
  },
  {
   "cell_type": "markdown",
   "metadata": {},
   "source": [
    "#### 2.3.3 重みとバイアスによる実装\n",
    "ここでは先に定義したAND回路をnumpyを使って定義する。"
   ]
  },
  {
   "cell_type": "code",
   "execution_count": 2,
   "metadata": {
    "collapsed": false
   },
   "outputs": [
    {
     "name": "stdout",
     "output_type": "stream",
     "text": [
      "AND(0, 0) = 0\n",
      "AND(1, 0) = 0\n",
      "AND(0, 1) = 0\n",
      "AND(1, 1) = 1\n"
     ]
    }
   ],
   "source": [
    "import numpy as np\n",
    "\n",
    "def AND(x1, x2):\n",
    "    x = np.array([1, x1 ,x2])\n",
    "    w = np.array([-0.7, 0.5, 0.5])\n",
    "    a = np.sum(x * w)\n",
    "    y = 1 if a > 0 else 0\n",
    "\n",
    "    return y\n",
    "\n",
    "# AND回路のテスト\n",
    "print('AND(0, 0) =', AND(0, 0))\n",
    "print('AND(1, 0) =', AND(1, 0))\n",
    "print('AND(0, 1) =', AND(0, 1))\n",
    "print('AND(1, 1) =', AND(1, 1))"
   ]
  },
  {
   "cell_type": "markdown",
   "metadata": {},
   "source": [
    "同様にNAND, ORも実装すると、以下のようになる。"
   ]
  },
  {
   "cell_type": "code",
   "execution_count": 3,
   "metadata": {
    "collapsed": false
   },
   "outputs": [
    {
     "name": "stdout",
     "output_type": "stream",
     "text": [
      "NAND(0, 0) = 1\n",
      "NAND(1, 0) = 1\n",
      "NAND(0, 1) = 1\n",
      "NAND(1, 1) = 0\n"
     ]
    }
   ],
   "source": [
    "def NAND(x1, x2):\n",
    "    x = np.array([1, x1, x2])\n",
    "    w = np.array([0.7, -0.5, -0.5])\n",
    "    a = np.sum(x * w)\n",
    "    y = 1 if a > 0 else 0\n",
    "    \n",
    "    return y\n",
    "\n",
    "# NANDのテスト\n",
    "print('NAND(0, 0) =', NAND(0, 0))\n",
    "print('NAND(1, 0) =', NAND(1, 0))\n",
    "print('NAND(0, 1) =', NAND(0, 1))\n",
    "print('NAND(1, 1) =', NAND(1, 1))"
   ]
  },
  {
   "cell_type": "code",
   "execution_count": 4,
   "metadata": {
    "collapsed": false
   },
   "outputs": [
    {
     "name": "stdout",
     "output_type": "stream",
     "text": [
      "OR(0, 0) = 0\n",
      "OR(1, 0) = 1\n",
      "OR(0, 1) = 1\n",
      "OR(1, 1) = 1\n"
     ]
    }
   ],
   "source": [
    "def OR(x1, x2):\n",
    "    x = np.array([1, x1, x2])\n",
    "    w = np.array([-0.3, 0.5, 0.5])\n",
    "    a = np.sum(x * w)\n",
    "    y = 1 if a > 0 else 0\n",
    "    \n",
    "    return y\n",
    "\n",
    "# ORのテスト\n",
    "print('OR(0, 0) =', OR(0, 0))\n",
    "print('OR(1, 0) =', OR(1, 0))\n",
    "print('OR(0, 1) =', OR(0, 1))\n",
    "print('OR(1, 1) =', OR(1, 1))"
   ]
  },
  {
   "cell_type": "markdown",
   "metadata": {},
   "source": [
    "#### 2.5.2 XORの実装\n",
    "今までに実装したAND, OR, NANDを使って排他的論理和XORを作る。"
   ]
  },
  {
   "cell_type": "code",
   "execution_count": 5,
   "metadata": {
    "collapsed": false
   },
   "outputs": [
    {
     "name": "stdout",
     "output_type": "stream",
     "text": [
      "XOR(0, 0) = 0\n",
      "XOR(1, 0) = 1\n",
      "XOR(0, 1) = 1\n",
      "XOR(1, 1) = 0\n"
     ]
    }
   ],
   "source": [
    "def XOR(x1, x2):\n",
    "    s1 = NAND(x1, x2)\n",
    "    s2 = OR(x1, x2)\n",
    "\n",
    "    return AND(s1, s2)\n",
    "\n",
    "# XORのテスト\n",
    "print('XOR(0, 0) =', XOR(0, 0))\n",
    "print('XOR(1, 0) =', XOR(1, 0))\n",
    "print('XOR(0, 1) =', XOR(0, 1))\n",
    "print('XOR(1, 1) =', XOR(1, 1))"
   ]
  },
  {
   "cell_type": "code",
   "execution_count": null,
   "metadata": {
    "collapsed": true
   },
   "outputs": [],
   "source": []
  }
 ],
 "metadata": {
  "anaconda-cloud": {},
  "kernelspec": {
   "display_name": "Python [conda root]",
   "language": "python",
   "name": "conda-root-py"
  },
  "language_info": {
   "codemirror_mode": {
    "name": "ipython",
    "version": 3
   },
   "file_extension": ".py",
   "mimetype": "text/x-python",
   "name": "python",
   "nbconvert_exporter": "python",
   "pygments_lexer": "ipython3",
   "version": "3.5.2"
  }
 },
 "nbformat": 4,
 "nbformat_minor": 1
}
