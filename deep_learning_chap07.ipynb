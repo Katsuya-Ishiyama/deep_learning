{
 "cells": [
  {
   "cell_type": "markdown",
   "metadata": {},
   "source": [
    "# ゼロから作るDeep Learning\n",
    "## 7章 畳み込みニューラルネットワーク\n",
    "### 7.2 畳み込み層\n",
    "#### 7.2.2 畳み込み演算"
   ]
  },
  {
   "cell_type": "code",
   "execution_count": 2,
   "metadata": {
    "collapsed": false
   },
   "outputs": [
    {
     "name": "stdout",
     "output_type": "stream",
     "text": [
      "----- 畳み込み演算の結果表示 -----\n",
      "入力データ:\n",
      "[[1 2 3 0]\n",
      " [0 1 2 3]\n",
      " [3 0 1 2]\n",
      " [2 3 0 1]]\n",
      "\n",
      "フィルター:\n",
      "[[2 0 1]\n",
      " [0 1 2]\n",
      " [1 0 2]]\n",
      "\n",
      "結果:\n",
      "[[15 16]\n",
      " [ 6 15]]\n",
      "\n"
     ]
    }
   ],
   "source": [
    "import numpy as np\n",
    "\n",
    "input_data = np.array([[1, 2, 3, 0],\n",
    "                       [0, 1, 2, 3],\n",
    "                       [3, 0, 1, 2],\n",
    "                       [2, 3, 0, 1]])\n",
    "\n",
    "kernel = np.array([[2, 0, 1],\n",
    "                   [0, 1, 2],\n",
    "                   [1, 0, 2]])\n",
    "\n",
    "c11 = np.sum(input_data[:3, :3].flatten() * kernel.flatten())\n",
    "c21 = np.sum(input_data[1:, :3].flatten() * kernel.flatten())\n",
    "c12 = np.sum(input_data[:3, 1:].flatten() * kernel.flatten())\n",
    "c22 = np.sum(input_data[1:, 1:].flatten() * kernel.flatten())\n",
    "\n",
    "convoluted_data = np.array([[c11, c12],\n",
    "                            [c21, c22]])\n",
    "\n",
    "print('----- 畳み込み演算の結果表示 -----')\n",
    "\n",
    "print('入力データ:')\n",
    "print(input_data)\n",
    "print()\n",
    "\n",
    "print('フィルター:')\n",
    "print(kernel)\n",
    "print()\n",
    "\n",
    "print('結果:')\n",
    "print(convoluted_data)\n",
    "print()"
   ]
  },
  {
   "cell_type": "markdown",
   "metadata": {},
   "source": [
    "#### 7.3.1 プーリング層の特徴\n",
    "プーリングは縦・横方向の空間を小さくする演算。  \n",
    "プーリング層には下記の3つの特徴がある。  \n",
    "1. 学習するパラメータが無い\n",
    "2. チャンネル数は変化しない\n",
    "3. 微小な位置変化に対してロバスト  \n",
    "   この特徴のおかげで最終的な出力層での回帰の結果が安定する\n",
    "\n",
    "Maxプーリングが一番有名で、以降はプーリング層にはMaxプーリングを使う。"
   ]
  },
  {
   "cell_type": "markdown",
   "metadata": {
    "collapsed": true
   },
   "source": [
    "## 7.4 Convolution / Poolingレイヤの実装\n",
    "#### 7.4.3 Convolutionレイヤの実装"
   ]
  },
  {
   "cell_type": "code",
   "execution_count": 4,
   "metadata": {
    "collapsed": false
   },
   "outputs": [
    {
     "name": "stdout",
     "output_type": "stream",
     "text": [
      "(9, 75)\n",
      "(90, 75)\n"
     ]
    }
   ],
   "source": [
    "# im2col関数の使い方\n",
    "import os\n",
    "import numpy as np\n",
    "from common.util import im2col\n",
    "\n",
    "x1 = np.random.rand(1, 3, 7, 7)\n",
    "col1 = im2col(x1, 5, 5, stride=1, pad=0)\n",
    "print(col1.shape)\n",
    "\n",
    "x2 = np.random.rand(10, 3, 7, 7)\n",
    "col2 = im2col(x2, 5, 5, stride=1, pad=0)\n",
    "print(col2.shape)"
   ]
  },
  {
   "cell_type": "code",
   "execution_count": 5,
   "metadata": {
    "collapsed": true
   },
   "outputs": [],
   "source": [
    "class Convolution(object):\n",
    "\n",
    "    def __init__(self, W, b, stride=1, pad=0):\n",
    "        self.W = W\n",
    "        self.b = b\n",
    "        self.stride = stride\n",
    "        self.pad = pad\n",
    "\n",
    "    def forward(self, x):\n",
    "\n",
    "        FN, C, FH, FW = self.W.shape\n",
    "        N, C, H, W = x.shape\n",
    "\n",
    "        out_h = int(1 + (H + 2*self.pad - FN) / self.stride)\n",
    "        out_w = int(1 + (W + 2*self.pad - FW) / self.stride)\n",
    "\n",
    "        col = im2col(x, FH, FW, self.stride, self.pad)\n",
    "        col_W = self.W.reshape(FN, -1).T\n",
    "        out = np.dot(col, col_W) + self.b\n",
    "\n",
    "        out = out.reshape(N, out_h, out_w, -1).transpose(0, 3, 1, 2)\n",
    "\n",
    "        return out"
   ]
  },
  {
   "cell_type": "code",
   "execution_count": 6,
   "metadata": {
    "collapsed": true
   },
   "outputs": [],
   "source": [
    "class Pooling(object):\n",
    "\n",
    "    def __init__(self, pool_h, pool_w, stride=1, pad=0):\n",
    "\n",
    "        self.pool_h = pool_h\n",
    "        self.pool_w = pool_w\n",
    "        self.stride = stride\n",
    "        self.pad = pad\n",
    "\n",
    "    def forward(self, x):\n",
    "        N, C, H, W = x.shape\n",
    "        out_h = int(1 + (H - self.pool_h) / self.stride)\n",
    "        out_w = int(1 + (W - self.pool_w) / self.stride)\n",
    "        \n",
    "        # 展開(1)\n",
    "        col = im2col(x, self.pool_h, self.pool_w, self.stride, self.pad)\n",
    "        col = col.reshape(-1, self.pool_h * self.pool_w)\n",
    "        \n",
    "        # 最大値(2)\n",
    "        out = np.max(col, axis=1)\n",
    "        \n",
    "        # 整形\n",
    "        out = out.reshape(N, out_h, out_w, C).transpose(0, 3, 1, 2)\n",
    "        \n",
    "        return out"
   ]
  },
  {
   "cell_type": "markdown",
   "metadata": {},
   "source": [
    "## 7.5 CNNの実装"
   ]
  },
  {
   "cell_type": "code",
   "execution_count": 11,
   "metadata": {
    "collapsed": false
   },
   "outputs": [],
   "source": [
    "from collections import OrderedDict\n",
    "import numpy as np\n",
    "from common.layers import (Convolution,\n",
    "                           Pooling,\n",
    "                           Relu,\n",
    "                           Affine,\n",
    "                           SoftmaxWithLoss)\n",
    "\n",
    "class SimpleConvNet(object):\n",
    "\n",
    "    def __init__(self,\n",
    "                 input_dim=(1, 28, 28),\n",
    "                 conv_param={'filter_num': 30, 'filter_size': 5, 'pad': 0, 'stride': 1},\n",
    "                 hidden_size=100,\n",
    "                 output_size=10,\n",
    "                 weight_init_std=0.01):\n",
    "\n",
    "        filter_num = conv_param['filter_num']\n",
    "        filter_size = conv_param['filter_size']\n",
    "        filter_pad = conv_param['pad']\n",
    "        filter_stride = conv_param['stride']\n",
    "        input_size = input_dim[1]\n",
    "        conv_output_size = (input_size - filter_size + 2 * filter_pad / filter_stride + 1)\n",
    "        pool_output_size = int(filter_num * (conv_output_size / 2) * (conv_output_size / 2))\n",
    "\n",
    "        self.params = {}\n",
    "        self.params['W1'] = weight_init_std * np.random.randn(filter_num, input_dim[0], filter_size, filter_size)\n",
    "        self.params['b1'] = np.zeros(filter_num)\n",
    "        self.params['W2'] = weight_init_std * np.random.randn(pool_output_size, hidden_size)\n",
    "        self.params['b2'] = np.zeros(hidden_size)\n",
    "        self.params['W3'] = weight_init_std * np.random.randn(hidden_size, output_size)\n",
    "        self.params['b3'] = np.zeros(output_size)\n",
    "        \n",
    "        self.layers = OrderedDict()\n",
    "        self.layers['Conv1'] = layers.Convolution(self.params['W1'],\n",
    "                                                  self.params['b1'],\n",
    "                                                  conv_param['stride'],\n",
    "                                                  conv_param['pad'])\n",
    "        self.layers['Relu1'] = layers.Relu()\n",
    "        self.layers['Pool1'] = layers.Pooling(pool_h=2, pool_w=2, stride=2)\n",
    "        self.layers['Affine1'] = layers.Affine(self.params['W2'], self.params['b2'])\n",
    "        self.layers['Relu2'] = layers.Relu()\n",
    "        self.layers['Affine2'] = layers.Affine(self.params['W3'], self.params['b3'])\n",
    "\n",
    "        self.last_layer = SoftmaxWithLoss()\n",
    "\n",
    "    def predict(self, x):\n",
    "\n",
    "        for layer in self.layers.values():\n",
    "            x = layer.forward(x)\n",
    "\n",
    "        return x\n",
    "    \n",
    "    def loss(self, x, t):\n",
    "        \n",
    "        y = self.predict(x)\n",
    "        \n",
    "        return self.last_layer.forward(y, t)\n",
    "    \n",
    "    def gradient(self, x, t):\n",
    "        \n",
    "        # 順伝播\n",
    "        self.loss(x, t)\n",
    "        \n",
    "        # 逆伝播\n",
    "        dout = 1\n",
    "        dout = self.last_layer.backward(dout)\n",
    "        \n",
    "        layers = list(self.layers.values())\n",
    "        layers.reverse()\n",
    "        for layer in layers:\n",
    "            dout = layer.backward(dout)\n",
    "        \n",
    "        # 設定\n",
    "        grads = {}\n",
    "        grads['W1'] = self.layers['Conv1'].dW\n",
    "        grads['b1'] = self.layers['Conv1'].db\n",
    "        grads['W2'] = self.layers['Affine1'].dW\n",
    "        grads['b2'] = self.layers['Affine1'].db\n",
    "        grads['W3'] = self.layers['Affine2'].dW\n",
    "        grads['b3'] = self.layers['Affine3'].db\n",
    "        \n",
    "        return grads"
   ]
  },
  {
   "cell_type": "code",
   "execution_count": null,
   "metadata": {
    "collapsed": true
   },
   "outputs": [],
   "source": []
  }
 ],
 "metadata": {
  "kernelspec": {
   "display_name": "Python [conda root]",
   "language": "python",
   "name": "conda-root-py"
  },
  "language_info": {
   "codemirror_mode": {
    "name": "ipython",
    "version": 3
   },
   "file_extension": ".py",
   "mimetype": "text/x-python",
   "name": "python",
   "nbconvert_exporter": "python",
   "pygments_lexer": "ipython3",
   "version": "3.5.2"
  }
 },
 "nbformat": 4,
 "nbformat_minor": 1
}
